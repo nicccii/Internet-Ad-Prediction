{
 "cells": [
  {
   "cell_type": "markdown",
   "metadata": {
    "id": "taLo6Q7NxKRE"
   },
   "source": [
    "# B8IT08_CA\n",
    "# Module Title: B8IT108 Data and Web Mining\n",
    "### Module Code: B8IT108\n",
    "### Module Leader: Ehtisham Yasin\n",
    "### Assessment Title: Develop a product release pipeline\n",
    "\n",
    "### Student Name: Nicholas Godwin Udomboso\n",
    "### Student Number: 10547333\n",
    "### Date: 05/05/2021 "
   ]
  },
  {
   "cell_type": "markdown",
   "metadata": {
    "id": "xQ1Zs9MKxXJ1"
   },
   "source": [
    "## Importing the libraries"
   ]
  },
  {
   "cell_type": "code",
   "execution_count": 1,
   "metadata": {
    "executionInfo": {
     "elapsed": 725,
     "status": "ok",
     "timestamp": 1620229500356,
     "user": {
      "displayName": "Nicholas Udomboso",
      "photoUrl": "",
      "userId": "00165160231049469404"
     },
     "user_tz": -60
    },
    "id": "D3x14CwtxcV5"
   },
   "outputs": [],
   "source": [
    "import numpy as np\n",
    "import matplotlib.pyplot as plt\n",
    "import pandas as pd"
   ]
  },
  {
   "cell_type": "markdown",
   "metadata": {
    "id": "1L1wq9evxg83"
   },
   "source": [
    "## Importing the dataset"
   ]
  },
  {
   "cell_type": "code",
   "execution_count": 2,
   "metadata": {
    "colab": {
     "base_uri": "https://localhost:8080/"
    },
    "executionInfo": {
     "elapsed": 1633,
     "status": "ok",
     "timestamp": 1620229501281,
     "user": {
      "displayName": "Nicholas Udomboso",
      "photoUrl": "",
      "userId": "00165160231049469404"
     },
     "user_tz": -60
    },
    "id": "TMeZ6FKbxkU6",
    "outputId": "70002fbe-8bc8-4bb4-e5d4-7d17ecc24991"
   },
   "outputs": [
    {
     "name": "stderr",
     "output_type": "stream",
     "text": [
      "C:\\Users\\ideyl\\anaconda3\\lib\\site-packages\\IPython\\core\\interactiveshell.py:3146: DtypeWarning: Columns (3) have mixed types.Specify dtype option on import or set low_memory=False.\n",
      "  has_raised = await self.run_ast_nodes(code_ast.body, cell_name,\n"
     ]
    }
   ],
   "source": [
    "dataset = pd.read_csv('ad.data', skipinitialspace = True)"
   ]
  },
  {
   "cell_type": "code",
   "execution_count": 3,
   "metadata": {
    "colab": {
     "base_uri": "https://localhost:8080/",
     "height": 243
    },
    "executionInfo": {
     "elapsed": 1619,
     "status": "ok",
     "timestamp": 1620229501284,
     "user": {
      "displayName": "Nicholas Udomboso",
      "photoUrl": "",
      "userId": "00165160231049469404"
     },
     "user_tz": -60
    },
    "id": "8Tg_ZFmHTZYJ",
    "outputId": "e98c034e-c7b5-4e5c-a9bd-02ed613fe0d4"
   },
   "outputs": [
    {
     "data": {
      "text/html": [
       "<div>\n",
       "<style scoped>\n",
       "    .dataframe tbody tr th:only-of-type {\n",
       "        vertical-align: middle;\n",
       "    }\n",
       "\n",
       "    .dataframe tbody tr th {\n",
       "        vertical-align: top;\n",
       "    }\n",
       "\n",
       "    .dataframe thead th {\n",
       "        text-align: right;\n",
       "    }\n",
       "</style>\n",
       "<table border=\"1\" class=\"dataframe\">\n",
       "  <thead>\n",
       "    <tr style=\"text-align: right;\">\n",
       "      <th></th>\n",
       "      <th>125</th>\n",
       "      <th>125.1</th>\n",
       "      <th>1.0</th>\n",
       "      <th>1</th>\n",
       "      <th>0</th>\n",
       "      <th>0.1</th>\n",
       "      <th>0.2</th>\n",
       "      <th>0.3</th>\n",
       "      <th>0.4</th>\n",
       "      <th>0.5</th>\n",
       "      <th>...</th>\n",
       "      <th>0.1532</th>\n",
       "      <th>0.1533</th>\n",
       "      <th>0.1534</th>\n",
       "      <th>0.1535</th>\n",
       "      <th>0.1536</th>\n",
       "      <th>0.1537</th>\n",
       "      <th>0.1538</th>\n",
       "      <th>0.1539</th>\n",
       "      <th>0.1540</th>\n",
       "      <th>ad.</th>\n",
       "    </tr>\n",
       "  </thead>\n",
       "  <tbody>\n",
       "    <tr>\n",
       "      <th>0</th>\n",
       "      <td>57</td>\n",
       "      <td>468</td>\n",
       "      <td>8.2105</td>\n",
       "      <td>1</td>\n",
       "      <td>0</td>\n",
       "      <td>0</td>\n",
       "      <td>0</td>\n",
       "      <td>0</td>\n",
       "      <td>0</td>\n",
       "      <td>0</td>\n",
       "      <td>...</td>\n",
       "      <td>0</td>\n",
       "      <td>0</td>\n",
       "      <td>0</td>\n",
       "      <td>0</td>\n",
       "      <td>0</td>\n",
       "      <td>0</td>\n",
       "      <td>0</td>\n",
       "      <td>0</td>\n",
       "      <td>0</td>\n",
       "      <td>ad.</td>\n",
       "    </tr>\n",
       "    <tr>\n",
       "      <th>1</th>\n",
       "      <td>33</td>\n",
       "      <td>230</td>\n",
       "      <td>6.9696</td>\n",
       "      <td>1</td>\n",
       "      <td>0</td>\n",
       "      <td>0</td>\n",
       "      <td>0</td>\n",
       "      <td>0</td>\n",
       "      <td>0</td>\n",
       "      <td>0</td>\n",
       "      <td>...</td>\n",
       "      <td>0</td>\n",
       "      <td>0</td>\n",
       "      <td>0</td>\n",
       "      <td>0</td>\n",
       "      <td>0</td>\n",
       "      <td>0</td>\n",
       "      <td>0</td>\n",
       "      <td>0</td>\n",
       "      <td>0</td>\n",
       "      <td>ad.</td>\n",
       "    </tr>\n",
       "    <tr>\n",
       "      <th>2</th>\n",
       "      <td>60</td>\n",
       "      <td>468</td>\n",
       "      <td>7.8</td>\n",
       "      <td>1</td>\n",
       "      <td>0</td>\n",
       "      <td>0</td>\n",
       "      <td>0</td>\n",
       "      <td>0</td>\n",
       "      <td>0</td>\n",
       "      <td>0</td>\n",
       "      <td>...</td>\n",
       "      <td>0</td>\n",
       "      <td>0</td>\n",
       "      <td>0</td>\n",
       "      <td>0</td>\n",
       "      <td>0</td>\n",
       "      <td>0</td>\n",
       "      <td>0</td>\n",
       "      <td>0</td>\n",
       "      <td>0</td>\n",
       "      <td>ad.</td>\n",
       "    </tr>\n",
       "    <tr>\n",
       "      <th>3</th>\n",
       "      <td>60</td>\n",
       "      <td>468</td>\n",
       "      <td>7.8</td>\n",
       "      <td>1</td>\n",
       "      <td>0</td>\n",
       "      <td>0</td>\n",
       "      <td>0</td>\n",
       "      <td>0</td>\n",
       "      <td>0</td>\n",
       "      <td>0</td>\n",
       "      <td>...</td>\n",
       "      <td>0</td>\n",
       "      <td>0</td>\n",
       "      <td>0</td>\n",
       "      <td>0</td>\n",
       "      <td>0</td>\n",
       "      <td>0</td>\n",
       "      <td>0</td>\n",
       "      <td>0</td>\n",
       "      <td>0</td>\n",
       "      <td>ad.</td>\n",
       "    </tr>\n",
       "    <tr>\n",
       "      <th>4</th>\n",
       "      <td>60</td>\n",
       "      <td>468</td>\n",
       "      <td>7.8</td>\n",
       "      <td>1</td>\n",
       "      <td>0</td>\n",
       "      <td>0</td>\n",
       "      <td>0</td>\n",
       "      <td>0</td>\n",
       "      <td>0</td>\n",
       "      <td>0</td>\n",
       "      <td>...</td>\n",
       "      <td>0</td>\n",
       "      <td>0</td>\n",
       "      <td>0</td>\n",
       "      <td>0</td>\n",
       "      <td>0</td>\n",
       "      <td>0</td>\n",
       "      <td>0</td>\n",
       "      <td>0</td>\n",
       "      <td>0</td>\n",
       "      <td>ad.</td>\n",
       "    </tr>\n",
       "  </tbody>\n",
       "</table>\n",
       "<p>5 rows × 1559 columns</p>\n",
       "</div>"
      ],
      "text/plain": [
       "  125 125.1     1.0  1  0  0.1  0.2  0.3  0.4  0.5  ...  0.1532  0.1533  \\\n",
       "0  57   468  8.2105  1  0    0    0    0    0    0  ...       0       0   \n",
       "1  33   230  6.9696  1  0    0    0    0    0    0  ...       0       0   \n",
       "2  60   468     7.8  1  0    0    0    0    0    0  ...       0       0   \n",
       "3  60   468     7.8  1  0    0    0    0    0    0  ...       0       0   \n",
       "4  60   468     7.8  1  0    0    0    0    0    0  ...       0       0   \n",
       "\n",
       "   0.1534  0.1535  0.1536  0.1537  0.1538  0.1539  0.1540  ad.  \n",
       "0       0       0       0       0       0       0       0  ad.  \n",
       "1       0       0       0       0       0       0       0  ad.  \n",
       "2       0       0       0       0       0       0       0  ad.  \n",
       "3       0       0       0       0       0       0       0  ad.  \n",
       "4       0       0       0       0       0       0       0  ad.  \n",
       "\n",
       "[5 rows x 1559 columns]"
      ]
     },
     "execution_count": 3,
     "metadata": {},
     "output_type": "execute_result"
    }
   ],
   "source": [
    "dataset.head()"
   ]
  },
  {
   "cell_type": "code",
   "execution_count": 4,
   "metadata": {
    "executionInfo": {
     "elapsed": 1606,
     "status": "ok",
     "timestamp": 1620229501287,
     "user": {
      "displayName": "Nicholas Udomboso",
      "photoUrl": "",
      "userId": "00165160231049469404"
     },
     "user_tz": -60
    },
    "id": "KRSG_laDIDOo"
   },
   "outputs": [],
   "source": [
    "# replacing the character ‘?’ with nan as the data is unknown\n",
    "dataset.iloc[:,:4]=dataset.iloc[:,:4].replace(\"?\",np.nan)"
   ]
  },
  {
   "cell_type": "markdown",
   "metadata": {
    "id": "BbQOUVn5zGqh"
   },
   "source": [
    "## Performing data exploration"
   ]
  },
  {
   "cell_type": "code",
   "execution_count": 5,
   "metadata": {
    "colab": {
     "base_uri": "https://localhost:8080/"
    },
    "executionInfo": {
     "elapsed": 1604,
     "status": "ok",
     "timestamp": 1620229501296,
     "user": {
      "displayName": "Nicholas Udomboso",
      "photoUrl": "",
      "userId": "00165160231049469404"
     },
     "user_tz": -60
    },
    "id": "SyeDTJ0mc86C",
    "outputId": "69d336ef-8086-48be-f8e2-e816bf00de1f"
   },
   "outputs": [
    {
     "data": {
      "text/plain": [
       "nonad.    2820\n",
       "ad.        458\n",
       "Name: ad., dtype: int64"
      ]
     },
     "execution_count": 5,
     "metadata": {},
     "output_type": "execute_result"
    }
   ],
   "source": [
    "#below shows 2820 records of nonad and 458 records of ad.\n",
    "#this means that the classes of the data is unbalanced in the dataset\n",
    "dataset['ad.'].value_counts() "
   ]
  },
  {
   "cell_type": "code",
   "execution_count": 6,
   "metadata": {
    "colab": {
     "base_uri": "https://localhost:8080/",
     "height": 295
    },
    "executionInfo": {
     "elapsed": 2323,
     "status": "ok",
     "timestamp": 1620229502029,
     "user": {
      "displayName": "Nicholas Udomboso",
      "photoUrl": "",
      "userId": "00165160231049469404"
     },
     "user_tz": -60
    },
    "id": "G6Foe_C6ZnbC",
    "outputId": "7208b2b6-03a2-488f-d588-0429013dbe75"
   },
   "outputs": [
    {
     "data": {
      "image/png": "[encoded data removed]",
      "text/plain": [
       "<Figure size 1152x1008 with 1 Axes>"
      ]
     },
     "metadata": {
      "needs_background": "light"
     },
     "output_type": "display_data"
    }
   ],
   "source": [
    "#The figure below shows the graphical representation of the unbalanced dataset.\n",
    "import seaborn as sns\n",
    "\n",
    "cols = ['ad.']\n",
    "\n",
    "plt.figure(figsize=(16, 14))\n",
    "sns.set(font_scale= 1.2)\n",
    "sns.set_style('ticks')\n",
    "\n",
    "for i, j in enumerate(cols):\n",
    "    plt.subplot(3, 3, i+1)\n",
    "    sns.countplot(data=dataset, x=j, hue='ad.', palette='Paired')\n",
    "    \n",
    "sns.despine()"
   ]
  },
  {
   "cell_type": "code",
   "execution_count": 7,
   "metadata": {
    "colab": {
     "base_uri": "https://localhost:8080/"
    },
    "executionInfo": {
     "elapsed": 2313,
     "status": "ok",
     "timestamp": 1620229502031,
     "user": {
      "displayName": "Nicholas Udomboso",
      "photoUrl": "",
      "userId": "00165160231049469404"
     },
     "user_tz": -60
    },
    "id": "oWUnYFAmR3aw",
    "outputId": "c03761eb-a2c9-4762-f556-0e74a12df176"
   },
   "outputs": [
    {
     "data": {
      "text/plain": [
       "(3278, 1559)"
      ]
     },
     "execution_count": 7,
     "metadata": {},
     "output_type": "execute_result"
    }
   ],
   "source": [
    "#the dataset has 3278 records\n",
    "dataset.shape\n",
    "# len(dataset)"
   ]
  },
  {
   "cell_type": "code",
   "execution_count": 8,
   "metadata": {
    "colab": {
     "base_uri": "https://localhost:8080/"
    },
    "executionInfo": {
     "elapsed": 2301,
     "status": "ok",
     "timestamp": 1620229502032,
     "user": {
      "displayName": "Nicholas Udomboso",
      "photoUrl": "",
      "userId": "00165160231049469404"
     },
     "user_tz": -60
    },
    "id": "eR8aG2YbDR7s",
    "outputId": "2debe6b4-2b55-4447-8b40-7b37c7b4961d"
   },
   "outputs": [
    {
     "name": "stdout",
     "output_type": "stream",
     "text": [
      "<class 'pandas.core.frame.DataFrame'>\n",
      "RangeIndex: 3278 entries, 0 to 3277\n",
      "Columns: 1559 entries, 125 to ad.\n",
      "dtypes: int64(1554), object(5)\n",
      "memory usage: 39.0+ MB\n"
     ]
    }
   ],
   "source": [
    "dataset.info()"
   ]
  },
  {
   "cell_type": "code",
   "execution_count": 9,
   "metadata": {
    "colab": {
     "base_uri": "https://localhost:8080/"
    },
    "executionInfo": {
     "elapsed": 2290,
     "status": "ok",
     "timestamp": 1620229502034,
     "user": {
      "displayName": "Nicholas Udomboso",
      "photoUrl": "",
      "userId": "00165160231049469404"
     },
     "user_tz": -60
    },
    "id": "rCtL6QE-Ebxt",
    "outputId": "ba6f2c82-827c-487b-d7df-9fdf4d52506a"
   },
   "outputs": [
    {
     "data": {
      "text/plain": [
       "125       903\n",
       "125.1     901\n",
       "1.0       910\n",
       "1          15\n",
       "0           0\n",
       "         ... \n",
       "0.1537      0\n",
       "0.1538      0\n",
       "0.1539      0\n",
       "0.1540      0\n",
       "ad.         0\n",
       "Length: 1559, dtype: int64"
      ]
     },
     "execution_count": 9,
     "metadata": {},
     "output_type": "execute_result"
    }
   ],
   "source": [
    "#to check for nulls in the dataset\n",
    "#the output shows that the dataset contains null values\n",
    "dataset.isnull().sum()"
   ]
  },
  {
   "cell_type": "code",
   "execution_count": 10,
   "metadata": {
    "colab": {
     "base_uri": "https://localhost:8080/"
    },
    "executionInfo": {
     "elapsed": 2270,
     "status": "ok",
     "timestamp": 1620229502035,
     "user": {
      "displayName": "Nicholas Udomboso",
      "photoUrl": "",
      "userId": "00165160231049469404"
     },
     "user_tz": -60
    },
    "id": "UAz3ItgXH5BD",
    "outputId": "4cd14955-0463-4510-ddaa-6531babb59a5"
   },
   "outputs": [
    {
     "name": "stdout",
     "output_type": "stream",
     "text": [
      "Percentage of missing values in the dataset columns : 83.25\n"
     ]
    }
   ],
   "source": [
    "# to check percentage of missing values in the dataset\n",
    "print(\"Percentage of missing values in the dataset columns :\" ,\n",
    "      round((sum(dataset.isna().sum()))/ len(dataset)*100,2))"
   ]
  },
  {
   "cell_type": "code",
   "execution_count": 11,
   "metadata": {
    "executionInfo": {
     "elapsed": 2261,
     "status": "ok",
     "timestamp": 1620229502036,
     "user": {
      "displayName": "Nicholas Udomboso",
      "photoUrl": "",
      "userId": "00165160231049469404"
     },
     "user_tz": -60
    },
    "id": "wF_lUgLZDgDo"
   },
   "outputs": [],
   "source": [
    "#the below puts the independent variables in X and the dependent variable in y\n",
    "\n",
    "X = dataset.iloc[:, :-1].values\n",
    "y = dataset.iloc[:, -1].values"
   ]
  },
  {
   "cell_type": "code",
   "execution_count": 12,
   "metadata": {
    "colab": {
     "base_uri": "https://localhost:8080/"
    },
    "executionInfo": {
     "elapsed": 2617,
     "status": "ok",
     "timestamp": 1620229502400,
     "user": {
      "displayName": "Nicholas Udomboso",
      "photoUrl": "",
      "userId": "00165160231049469404"
     },
     "user_tz": -60
    },
    "id": "eMNUgChRrVf7",
    "outputId": "f884750e-3df5-4246-eec3-eb38534799e2"
   },
   "outputs": [
    {
     "name": "stdout",
     "output_type": "stream",
     "text": [
      "[['57' '468' '8.2105' ... 0 0 0]\n",
      " ['33' '230' '6.9696' ... 0 0 0]\n",
      " ['60' '468' '7.8' ... 0 0 0]\n",
      " ...\n",
      " ['23' '120' '5.2173' ... 0 0 0]\n",
      " [nan nan nan ... 0 0 0]\n",
      " ['40' '40' '1.0' ... 0 0 0]]\n"
     ]
    }
   ],
   "source": [
    "print(X)"
   ]
  },
  {
   "cell_type": "markdown",
   "metadata": {
    "id": "OyTR3l7UMbJo"
   },
   "source": [
    "## Preprocessing the dataset"
   ]
  },
  {
   "cell_type": "code",
   "execution_count": 13,
   "metadata": {
    "executionInfo": {
     "elapsed": 22922,
     "status": "ok",
     "timestamp": 1620229522714,
     "user": {
      "displayName": "Nicholas Udomboso",
      "photoUrl": "",
      "userId": "00165160231049469404"
     },
     "user_tz": -60
    },
    "id": "dbPl46x-nXqM"
   },
   "outputs": [],
   "source": [
    "#imputing the missing data with KNNImputer class\n",
    "from sklearn.impute import KNNImputer\n",
    "imputer = KNNImputer(missing_values=np.NaN,n_neighbors=5)\n",
    "X=imputer.fit_transform(X)"
   ]
  },
  {
   "cell_type": "code",
   "execution_count": 14,
   "metadata": {
    "colab": {
     "base_uri": "https://localhost:8080/"
    },
    "executionInfo": {
     "elapsed": 22913,
     "status": "ok",
     "timestamp": 1620229522716,
     "user": {
      "displayName": "Nicholas Udomboso",
      "photoUrl": "",
      "userId": "00165160231049469404"
     },
     "user_tz": -60
    },
    "id": "uLgkuUQ4Lllr",
    "outputId": "04fc0667-f28d-468d-83ff-eaefa258d63f"
   },
   "outputs": [
    {
     "name": "stdout",
     "output_type": "stream",
     "text": [
      "[[ 57.     468.       8.2105 ...   0.       0.       0.    ]\n",
      " [ 33.     230.       6.9696 ...   0.       0.       0.    ]\n",
      " [ 60.     468.       7.8    ...   0.       0.       0.    ]\n",
      " ...\n",
      " [ 23.     120.       5.2173 ...   0.       0.       0.    ]\n",
      " [158.6    222.8      1.2221 ...   0.       0.       0.    ]\n",
      " [ 40.      40.       1.     ...   0.       0.       0.    ]]\n"
     ]
    }
   ],
   "source": [
    "print(X)"
   ]
  },
  {
   "cell_type": "code",
   "execution_count": 15,
   "metadata": {
    "colab": {
     "base_uri": "https://localhost:8080/"
    },
    "executionInfo": {
     "elapsed": 22898,
     "status": "ok",
     "timestamp": 1620229522717,
     "user": {
      "displayName": "Nicholas Udomboso",
      "photoUrl": "",
      "userId": "00165160231049469404"
     },
     "user_tz": -60
    },
    "id": "8PgM5JpPNJYs",
    "outputId": "cc84ae7a-af81-40bb-a6a9-9ef11e55a256"
   },
   "outputs": [
    {
     "name": "stdout",
     "output_type": "stream",
     "text": [
      "['ad.' 'ad.' 'ad.' ... 'nonad.' 'nonad.' 'nonad.']\n"
     ]
    }
   ],
   "source": [
    "print(y)"
   ]
  },
  {
   "cell_type": "markdown",
   "metadata": {
    "id": "N9M_onkZY8Vt"
   },
   "source": [
    "## Encoding categorical data"
   ]
  },
  {
   "cell_type": "markdown",
   "metadata": {
    "id": "t-CpTaCNZegv"
   },
   "source": [
    "### LabelEncoder"
   ]
  },
  {
   "cell_type": "code",
   "execution_count": 16,
   "metadata": {
    "colab": {
     "base_uri": "https://localhost:8080/"
    },
    "executionInfo": {
     "elapsed": 22885,
     "status": "ok",
     "timestamp": 1620229522718,
     "user": {
      "displayName": "Nicholas Udomboso",
      "photoUrl": "",
      "userId": "00165160231049469404"
     },
     "user_tz": -60
    },
    "id": "5g2XmWUEah77",
    "outputId": "54b96c44-236b-4202-d520-2ead83ffed66"
   },
   "outputs": [
    {
     "name": "stdout",
     "output_type": "stream",
     "text": [
      "[0 0 0 ... 1 1 1]\n"
     ]
    }
   ],
   "source": [
    "## to represent the values of the dependent variable with numeric data\n",
    "\n",
    "from sklearn.preprocessing import LabelEncoder, OneHotEncoder\n",
    "y = LabelEncoder().fit_transform(y)\n",
    "print(y)\n",
    "\n",
    "# 0 for ad.\n",
    "# 1 for nonad."
   ]
  },
  {
   "cell_type": "markdown",
   "metadata": {
    "id": "JkO_ZG6YFmUy"
   },
   "source": [
    "## Feature reduction"
   ]
  },
  {
   "cell_type": "code",
   "execution_count": 17,
   "metadata": {
    "executionInfo": {
     "elapsed": 22875,
     "status": "ok",
     "timestamp": 1620229522719,
     "user": {
      "displayName": "Nicholas Udomboso",
      "photoUrl": "",
      "userId": "00165160231049469404"
     },
     "user_tz": -60
    },
    "id": "yYUHkIwCFpbk"
   },
   "outputs": [],
   "source": [
    "##Feature selection with Univariate Selection\n",
    "\n",
    "## I uncomment this code when I want to reduce the features of the dataset\n",
    "## otherwise the code is commented to model the algorithms with all features of the dataset \n",
    "## to experiment with different number of features I change the value of k in the code to evaluate the number of features\n",
    "## that will produce best performance\n",
    "## the default value is 10, meaning the method should select top 10 features for the model and evaluate the performance\n",
    "\n",
    "# from pandas import read_csv\n",
    "# from numpy import set_printoptions\n",
    "# from sklearn.feature_selection import SelectKBest\n",
    "# from sklearn.feature_selection import f_classif\n",
    "\n",
    "# names = dataset.columns\n",
    "# #dataframe = read_csv(url, names=names)\n",
    "# # array = dataset.values\n",
    "# # feature extraction\n",
    "# test = SelectKBest(score_func=f_classif, k=10)\n",
    "# fit = test.fit(X, y)\n",
    "# # summarize scores\n",
    "# set_printoptions(precision=3)\n",
    "# print(fit.scores_)\n",
    "# features = fit.transform(X)\n",
    "# X=features\n",
    "# # summarize selected features\n",
    "# print(features[0:5,:])"
   ]
  },
  {
   "cell_type": "markdown",
   "metadata": {
    "id": "COpiqzfTRS0o"
   },
   "source": [
    "## Random Undersampling"
   ]
  },
  {
   "cell_type": "code",
   "execution_count": null,
   "metadata": {},
   "outputs": [],
   "source": [
    "pip install imblearn"
   ]
  },
  {
   "cell_type": "code",
   "execution_count": 18,
   "metadata": {
    "executionInfo": {
     "elapsed": 22875,
     "status": "ok",
     "timestamp": 1620229522721,
     "user": {
      "displayName": "Nicholas Udomboso",
      "photoUrl": "",
      "userId": "00165160231049469404"
     },
     "user_tz": -60
    },
    "id": "0l5TRXN9RYeC"
   },
   "outputs": [],
   "source": [
    "# # this code uses random undersampling to balance the class distribution\n",
    "# # I uncomment this code when I want to undersample the data for data balancing\n",
    "\n",
    "# from collections import Counter\n",
    "# from imblearn.under_sampling import RandomUnderSampler\n",
    "# # summarize class distribution\n",
    "# print(Counter(y))\n",
    "# # define undersample strategy\n",
    "# #undersample = RandomUnderSampler(sampling_strategy='majority')\n",
    "# undersample = RandomUnderSampler(sampling_strategy=0.5)\n",
    "# # fit and apply the transform\n",
    "# X, y = undersample.fit_resample(X, y)\n",
    "# # summarize class distribution\n",
    "# print(Counter(y))"
   ]
  },
  {
   "cell_type": "markdown",
   "metadata": {
    "id": "Ikz6vnlaSOUM"
   },
   "source": [
    "## Oversampling with SMOTE"
   ]
  },
  {
   "cell_type": "code",
   "execution_count": 20,
   "metadata": {
    "colab": {
     "base_uri": "https://localhost:8080/",
     "height": 433
    },
    "executionInfo": {
     "elapsed": 23858,
     "status": "ok",
     "timestamp": 1620229523710,
     "user": {
      "displayName": "Nicholas Udomboso",
      "photoUrl": "",
      "userId": "00165160231049469404"
     },
     "user_tz": -60
    },
    "id": "s9dvg-3bSU8j",
    "outputId": "48dda4f6-616c-454e-d1db-1b0f62db016f"
   },
   "outputs": [
    {
     "name": "stdout",
     "output_type": "stream",
     "text": [
      "Counter({1: 2820, 0: 458})\n",
      "Counter({0: 2820, 1: 2820})\n"
     ]
    },
    {
     "data": {
      "image/png": "[encoded data removed]",
      "text/plain": [
       "<Figure size 432x288 with 1 Axes>"
      ]
     },
     "metadata": {},
     "output_type": "display_data"
    }
   ],
   "source": [
    "## this code is for oversample method with SMOTE and to plot imbalanced/balanced dataset with SMOTE\n",
    "\n",
    "## the code is not commented as I implemented the algorithms with data balanced using oversample method\n",
    "\n",
    "from collections import Counter\n",
    "from sklearn.datasets import make_classification\n",
    "from imblearn.over_sampling import SMOTE\n",
    "from matplotlib import pyplot\n",
    "from numpy import where\n",
    "\n",
    "# summarize class distribution after smote\n",
    "counter = Counter(y)\n",
    "print(counter)\n",
    "# transform the dataset\n",
    "oversample = SMOTE()\n",
    "X, y = oversample.fit_resample(X, y)\n",
    "# summarize the new class distribution\n",
    "counter = Counter(y)\n",
    "print(counter)\n",
    "# scatter plot of examples by class label\n",
    "for label, _ in counter.items():\n",
    "\trow_ix = where(y == label)[0]\n",
    "\tpyplot.scatter(X[row_ix, 0], X[row_ix, 1], label=str(label))\n",
    "pyplot.legend()\n",
    "pyplot.show()"
   ]
  },
  {
   "cell_type": "markdown",
   "metadata": {
    "id": "i3FBTRwzxzl7"
   },
   "source": [
    "## Splitting the dataset into the Training set and Test set"
   ]
  },
  {
   "cell_type": "code",
   "execution_count": 21,
   "metadata": {
    "executionInfo": {
     "elapsed": 23856,
     "status": "ok",
     "timestamp": 1620229523713,
     "user": {
      "displayName": "Nicholas Udomboso",
      "photoUrl": "",
      "userId": "00165160231049469404"
     },
     "user_tz": -60
    },
    "id": "V5TZ-0qSx5mX"
   },
   "outputs": [],
   "source": [
    "from sklearn.model_selection import train_test_split\n",
    "X_train, X_test, y_train, y_test = train_test_split(X, y, test_size = 0.25, random_state = 0)"
   ]
  },
  {
   "cell_type": "markdown",
   "metadata": {
    "id": "29ry3GSGx9P_"
   },
   "source": [
    "## Training the Training set"
   ]
  },
  {
   "cell_type": "code",
   "execution_count": 22,
   "metadata": {
    "executionInfo": {
     "elapsed": 23851,
     "status": "ok",
     "timestamp": 1620229523715,
     "user": {
      "displayName": "Nicholas Udomboso",
      "photoUrl": "",
      "userId": "00165160231049469404"
     },
     "user_tz": -60
    },
    "id": "HGcJgDYqoq-p"
   },
   "outputs": [],
   "source": [
    "##Training the K-NN model on the Training set\n",
    "## I uncomment this code when I want to implement K-NN algorithm on the dataset, while I comment out other algorithms\n",
    "\n",
    "# from sklearn.neighbors import KNeighborsClassifier\n",
    "# classifier = KNeighborsClassifier(n_neighbors = 5, metric = 'minkowski', p = 2)\n",
    "# classifier.fit(X_train, y_train)"
   ]
  },
  {
   "cell_type": "code",
   "execution_count": null,
   "metadata": {
    "id": "Y_CFf1a3qptn"
   },
   "outputs": [],
   "source": [
    "##Training the SVM model on the Training set\n",
    "## this code is not commented as this is the algorithm (SVM) that produced best performance on the dataset\n",
    "\n",
    "from sklearn.svm import SVC\n",
    "classifier = SVC(kernel = 'linear', random_state = 0)\n",
    "classifier.fit(X_train, y_train)"
   ]
  },
  {
   "cell_type": "code",
   "execution_count": null,
   "metadata": {
    "executionInfo": {
     "elapsed": 64795,
     "status": "ok",
     "timestamp": 1620229564667,
     "user": {
      "displayName": "Nicholas Udomboso",
      "photoUrl": "",
      "userId": "00165160231049469404"
     },
     "user_tz": -60
    },
    "id": "BUM0MSyGyCjF"
   },
   "outputs": [],
   "source": [
    "# ##Training the Kernel SVM model on the Training set\n",
    "## I uncomment this code when I want to implement Kernel SVM algorithm on the dataset, while I comment out other algorithms\n",
    "\n",
    "# from sklearn.svm import SVC\n",
    "# classifier = SVC(kernel = 'rbf', random_state = 0)\n",
    "# classifier.fit(X_train, y_train)"
   ]
  },
  {
   "cell_type": "code",
   "execution_count": null,
   "metadata": {
    "executionInfo": {
     "elapsed": 64788,
     "status": "ok",
     "timestamp": 1620229564669,
     "user": {
      "displayName": "Nicholas Udomboso",
      "photoUrl": "",
      "userId": "00165160231049469404"
     },
     "user_tz": -60
    },
    "id": "oeKZ9MSQpiu8"
   },
   "outputs": [],
   "source": [
    "# ##Training the Naive Bayes model on the Training set\n",
    "## I uncomment this code when I want to implement Naive Bayes algorithm on the dataset, while I comment out other algorithms\n",
    "\n",
    "# from sklearn.naive_bayes import GaussianNB\n",
    "# classifier = GaussianNB()\n",
    "# classifier.fit(X_train, y_train)"
   ]
  },
  {
   "cell_type": "code",
   "execution_count": null,
   "metadata": {
    "executionInfo": {
     "elapsed": 64783,
     "status": "ok",
     "timestamp": 1620229564670,
     "user": {
      "displayName": "Nicholas Udomboso",
      "photoUrl": "",
      "userId": "00165160231049469404"
     },
     "user_tz": -60
    },
    "id": "Owsw-rlNoLP2"
   },
   "outputs": [],
   "source": [
    "# ##Training the Decision Tree model on the Training set\n",
    "## I uncomment this code when I want to implement Decision Tree algorithm on the dataset, while I comment out other algorithms\n",
    "\n",
    "# from sklearn.tree import DecisionTreeClassifier\n",
    "# classifier = DecisionTreeClassifier(criterion = 'entropy', random_state = 0)\n",
    "# classifier.fit(X_train, y_train)"
   ]
  },
  {
   "cell_type": "code",
   "execution_count": null,
   "metadata": {
    "executionInfo": {
     "elapsed": 64780,
     "status": "ok",
     "timestamp": 1620229564673,
     "user": {
      "displayName": "Nicholas Udomboso",
      "photoUrl": "",
      "userId": "00165160231049469404"
     },
     "user_tz": -60
    },
    "id": "QUUu1xeZqQte"
   },
   "outputs": [],
   "source": [
    "# ##Training the Random Forest Classification model on the Training set\n",
    "## I uncomment this code when I want to implement Random Forest algorithm on the dataset, while I comment out other algorithms\n",
    "\n",
    "# from sklearn.ensemble import RandomForestClassifier\n",
    "# classifier = RandomForestClassifier(n_estimators = 10, criterion = 'entropy', random_state = 0)\n",
    "# classifier.fit(X_train, y_train)"
   ]
  },
  {
   "cell_type": "code",
   "execution_count": null,
   "metadata": {
    "executionInfo": {
     "elapsed": 64777,
     "status": "ok",
     "timestamp": 1620229564675,
     "user": {
      "displayName": "Nicholas Udomboso",
      "photoUrl": "",
      "userId": "00165160231049469404"
     },
     "user_tz": -60
    },
    "id": "dHdXJSlEtuEz"
   },
   "outputs": [],
   "source": [
    "# ##Training XGBoost on the Training set\n",
    "## I uncomment this code when I want to implement XGBoost algorithm on the dataset, while I comment out other algorithms\n",
    "\n",
    "# from xgboost import XGBClassifier\n",
    "# classifier = XGBClassifier()\n",
    "# classifier.fit(X_train, y_train)"
   ]
  },
  {
   "cell_type": "markdown",
   "metadata": {
    "id": "fBbur5RQyTcL"
   },
   "source": [
    "## Making the Confusion Matrix"
   ]
  },
  {
   "cell_type": "code",
   "execution_count": null,
   "metadata": {
    "colab": {
     "base_uri": "https://localhost:8080/"
    },
    "executionInfo": {
     "elapsed": 66392,
     "status": "ok",
     "timestamp": 1620229566298,
     "user": {
      "displayName": "Nicholas Udomboso",
      "photoUrl": "",
      "userId": "00165160231049469404"
     },
     "user_tz": -60
    },
    "id": "_1llVHNPyWkZ",
    "outputId": "d7f05bd4-110d-4aea-b87d-11ad03350f7a"
   },
   "outputs": [],
   "source": [
    "from sklearn.metrics import confusion_matrix, accuracy_score\n",
    "y_pred = classifier.predict(X_test)\n",
    "cm = confusion_matrix(y_test, y_pred)\n",
    "print(cm)\n",
    "accuracy_score(y_test, y_pred)"
   ]
  },
  {
   "cell_type": "code",
   "execution_count": null,
   "metadata": {
    "colab": {
     "base_uri": "https://localhost:8080/"
    },
    "executionInfo": {
     "elapsed": 66382,
     "status": "ok",
     "timestamp": 1620229566299,
     "user": {
      "displayName": "Nicholas Udomboso",
      "photoUrl": "",
      "userId": "00165160231049469404"
     },
     "user_tz": -60
    },
    "id": "71RzDBJ3Fiu0",
    "outputId": "41e5e435-bd60-4e59-f241-1f775bdff292"
   },
   "outputs": [],
   "source": [
    "print(y_pred)"
   ]
  },
  {
   "cell_type": "markdown",
   "metadata": {
    "id": "U-eGh0nuyabx"
   },
   "source": [
    "## Applying k-Fold Cross Validation"
   ]
  },
  {
   "cell_type": "code",
   "execution_count": null,
   "metadata": {
    "id": "N5puHSW9ydyi"
   },
   "outputs": [],
   "source": [
    "from sklearn.model_selection import cross_val_score\n",
    "accuracies = cross_val_score(estimator = classifier, X = X_train, y = y_train, cv = 10)\n",
    "print(\"Accuracy: {:.2f} %\".format(accuracies.mean()*100))\n",
    "print(\"Standard Deviation: {:.2f} %\".format(accuracies.std()*100))"
   ]
  },
  {
   "cell_type": "markdown",
   "metadata": {
    "id": "XoD_cWC7FNQ7"
   },
   "source": [
    "References:\n",
    "\n",
    "1. Waqas et al. (2016) Journal of Computer Science & Systems Biology., ‘Treatment of Missing Values in Data Mining’.\n",
    "\n",
    "2. Brown et al. (2003) Industrial Management & Data Systems., ‘Data Mining and the impact of missing data’.\n",
    "\n",
    "3. Analytics Vidya. ‘Overcoming Class Imbalance using SMOTE Techniques. Available at: https://www.analyticsvidhya.com/blog/2020/10 overcoming-class-imbalance-using-smote-techniques/ (Accessed 1 May 2021).\n",
    "\n",
    "4. Brownlee, J. ‘SMOTE for Imbalanced Classification with Python’. Available at: https://machinelearningmastery.com/smote-oversampling-for-imbalanced-classification (Accessed 1 May 2021).\n",
    "\n",
    "5. Brownlee, J. (2019) ‘How to Perform Feature Selection with Categorical Data’. Available at: https://machinelearningmastery.com/feature-selection-with-categorical-data/ (Accessed 3 May 2021).\n",
    "\n",
    "6. Brownlee, J. (2016) ‘Feature Selection for Machine Learning in Python’. Available at: https://machinelearningmastery.com/feature-selection-machine-learning-python/ (Accessed 3 May 2021).\n",
    "\n",
    "7. Scikit-learn.org. API Reference. Available at: https://scikit-learn.org/stable/modules/classes.html (Accessed 29 April 2021).\n",
    "\n",
    "8. Aliyev, V. (2016) ‘3 underrated strategies to deal with Missing Values’. Available at: https://towardsdatascience.com/3-underrated-strategies-to-deal-with-missing-values-a539fb6c0690 (Accessed 1 May 2021).\n",
    "\n",
    "9. Kaushik. (2020) ‘KNNImputer: A robust way to impute missing values (using Scikit-Learn). Available at: https://www.analyticsvidhya.com/blog/2020/07/knnimputer-a-robust-way-to-impute-missing-values-using-scikit-learn/ (Accessed 3 May 2021).\n",
    "\n",
    "10. Amazon ‘How XGBoost Works’. Available at: https://docs.aws.amazon.com/sagemaker/latest/dg/xgboost-HowItWorks.html (Accessed 3 May 2021).\n",
    "\n",
    "11. Schott, M. (2019) ‘K-Nearest Neighbors (KNN) Algorithm for Machine Learning’. Available at: https://medium.com/capital-one-tech/k-nearest-neighbors-knn-algorithm-for-machine-learning-e883219c8f26 (Accessed 3 May 2021).\n",
    "\n",
    "12. Ray, S. (2017) Analytics Vidhya. ‘K-Nearest Neighbors (KNN) Algorithm for Machine Learning’. Available at:  Understanding Support Vector Machine(SVM) algorithm from examples/ (Accessed 3 May 2021).\n",
    "\n",
    "13. Chauhan, N. (2020) KDNuggets. ‘Naïve Bayes Algorithm: Everything you need to know’. Available at: https://www.kdnuggets.com/2020/06/naive-bayes-algorithm-everything.html (Accessed 3 May 2021).\n",
    "\n",
    "14. Gupta, P. (2017) ‘Decision Trees in Machine Learning’. Available at: https://towardsdatascience.com/decision-trees-in-machine-learning-641b9c4e8052 (Accessed 3 May 2021).\n",
    "\n",
    "15. Analytics Vidhya. (2020) ‘Lets Open the Black Box of Random Forests’. Available at: https://www.analyticsvidhya.com/blog/2020/12/lets-open-the-black-box-of-random-forests/ (Accessed 3 May 2021).\n",
    "\n",
    "16. Narkhede, S. (2018) ‘Understanding Confusion Matrix’. Available at: https://towardsdatascience.com/understanding-confusion-matrix-a9ad42dcfd62 (Accessed 3 May 2021).\n",
    "\n",
    "17. Narkhede, S. (2018) ‘Understanding AUC - ROC Curve. Available at: https://towardsdatascience.com/understanding-auc-roc-curve-68b2303cc9c5 (Accessed 3 May 2021).\n"
   ]
  },
  {
   "cell_type": "code",
   "execution_count": null,
   "metadata": {
    "id": "UKaWQvbGFPEx"
   },
   "outputs": [],
   "source": []
  }
 ],
 "metadata": {
  "accelerator": "GPU",
  "colab": {
   "collapsed_sections": [],
   "name": "B8IT108_CA.ipynb",
   "provenance": [
    {
     "file_id": "10h5USCbm5AKZDebRUOHOtGFAAz-36rVg",
     "timestamp": 1620042733656
    },
    {
     "file_id": "154-PZ9ND2mTsqkqOwNw7Z4EfqP4OPRqS",
     "timestamp": 1618733683772
    },
    {
     "file_id": "1faLG-UdydptMcztX4nA6T1LcZi75-QhS",
     "timestamp": 1618690568458
    }
   ],
   "toc_visible": true
  },
  "kernelspec": {
   "display_name": "Python 3",
   "language": "python",
   "name": "python3"
  },
  "language_info": {
   "codemirror_mode": {
    "name": "ipython",
    "version": 3
   },
   "file_extension": ".py",
   "mimetype": "text/x-python",
   "name": "python",
   "nbconvert_exporter": "python",
   "pygments_lexer": "ipython3",
   "version": "3.8.5"
  }
 },
 "nbformat": 4,
 "nbformat_minor": 4
}
